{
 "cells": [
  {
   "cell_type": "code",
   "execution_count": 95,
   "metadata": {},
   "outputs": [],
   "source": [
    "import pandas as pd\n",
    "import numpy as np\n",
    "import spacy\n",
    "import regex as re\n",
    "import string\n",
    "import nltk\n",
    "from nltk.tokenize import word_tokenize\n",
    "from nltk.corpus import stopwords\n",
    "from sklearn.ensemble import (RandomForestClassifier, \n",
    "                              GradientBoostingClassifier,\n",
    "                              ExtraTreesClassifier)\n",
    "from sklearn.neighbors import KNeighborsClassifier\n",
    "from sklearn.svm import SVC\n",
    "from sklearn.naive_bayes import (MultinomialNB, \n",
    "                                 GaussianNB)\n",
    "from sklearn.model_selection import train_test_split\n",
    "from sklearn.base import (BaseEstimator, \n",
    "                          TransformerMixin)\n",
    "from sklearn.feature_extraction.text import (CountVectorizer,\n",
    "                                             TfidfVectorizer)\n",
    "from sklearn.pipeline import Pipeline\n",
    "\n",
    "#Evaluation\n",
    "from sklearn import metrics\n",
    "from yellowbrick.classifier import (roc_auc, \n",
    "                                    confusion_matrix, \n",
    "                                    classification_report)\n",
    "\n",
    "import warnings\n",
    "warnings.filterwarnings(\"ignore\")"
   ]
  },
  {
   "cell_type": "code",
   "execution_count": 38,
   "metadata": {},
   "outputs": [],
   "source": [
    "#loading english large model for Word vectorazing\n",
    "nlp=spacy.load('en_core_web_lg')"
   ]
  },
  {
   "cell_type": "markdown",
   "metadata": {},
   "source": [
    "# List of stopwords"
   ]
  },
  {
   "cell_type": "code",
   "execution_count": 60,
   "metadata": {},
   "outputs": [
    {
     "name": "stderr",
     "output_type": "stream",
     "text": [
      "[nltk_data] Downloading package stopwords to\n",
      "[nltk_data]     /Users/chenyenpin/nltk_data...\n",
      "[nltk_data]   Package stopwords is already up-to-date!\n",
      "[nltk_data] Downloading package punkt to\n",
      "[nltk_data]     /Users/chenyenpin/nltk_data...\n",
      "[nltk_data]   Package punkt is already up-to-date!\n"
     ]
    }
   ],
   "source": [
    "nltk.download(\"stopwords\")\n",
    "nltk.download(\"punkt\")\n",
    "my_stop_words=stopwords.words(\"english\")\n",
    "\n",
    "words2keep=[\"don\", \"don't\", \"ain\", \"aren\", \"aren't\", \"couldn\", \"couldn't\", \"didn\",\n",
    "\"didn't\", \"doesn\", \"doesn't\", \"hadn\", \"hadn't\", \"hasn\", \"hasn't\", \"haven\", \"haven't\", \"isn\", \"isn’t\", \"ma\",\n",
    "\"mightn\", \"mightn't\", \"mustn\", \"mustn't\", \"needn\", \"needn't\", \"shan\", \"shan't\", \"no\", \"nor\", \"not\", \"shouldn'\",\n",
    "\"shouldn't\", \"wasn'\", \"wasn't\", \"weren'\", \"weren't\", \"won\", \"won't\", \"wouldn'\", \"wouldn't\"]\n",
    "my_stop_words=[word for word in my_stop_words if word not in words2keep]"
   ]
  },
  {
   "cell_type": "code",
   "execution_count": 61,
   "metadata": {},
   "outputs": [],
   "source": [
    "# Main functions for the project\n",
    "\n",
    "def eda(df:pd.DataFrame):\n",
    "  '''\n",
    "  Retornara um analise exploratoria simples\n",
    "\n",
    "  -param df: pandas dataframe\n",
    "  '''\n",
    "  print(\"-\"*30,\"DataFrame Shape\", \"-\"*30)\n",
    "  print(df.shape)\n",
    "  print(\"-\"*30,\"DataFrame info\", \"-\"*30)\n",
    "  print(df.info())\n",
    "  print(\"-\"*30,\"DataFrame Nan\", \"-\"*30)\n",
    "  print(df.isna().sum())\n",
    "  print(\"-\"*30,\"DataFrame duplicated\", \"-\"*30)\n",
    "  print(df.duplicated().sum())\n",
    "  print(\"-\"*30,\"DataFrame nunique\", \"-\"*30)\n",
    "  print(df.nunique())\n",
    "  print(\"-\"*30,\"DataFrame value counts\", \"-\"*30)\n",
    "  print(f\"{df['rating_seg'].value_counts(normalize=True)}\")\n",
    "\n",
    "\n",
    "\n",
    "def rating_seg(df: pd.DataFrame)->pd.DataFrame:\n",
    "  conditions=[\n",
    "    (df[\"Rating\"]<=2),\n",
    "    (df[\"Rating\"]>3),\n",
    "    (df[\"Rating\"]==3)\n",
    "  ]\n",
    "  values=[0,2,1]\n",
    "  df[\"rating_seg\"]=np.select(conditions, values, default=np.nan)\n",
    "  return df\n",
    "\n",
    "def remove_stop_words(column):\n",
    "  tokenize=word_tokenize(column)\n",
    "  column_withno_stopwords=[token for token in tokenize  if not token in my_stop_words ]\n",
    "  new_sentence=\" \".join(column_withno_stopwords)\n",
    "  return new_sentence\n",
    "\n",
    "\n",
    "def convert_lower_case(column):\n",
    "  '''\n",
    "  Funcao que retorna a coluna selecionada para letra minuscula\n",
    "  -param column: coluna da pd.Dataframe\n",
    "  '''\n",
    "  return column.lower()\n",
    "\n",
    "\n",
    "def spacy_tokenizer(doc):\n",
    "  '''\n",
    "  Funcao que remove as pontuacoes, novas linhas lematiza nosso texto e apenas letras do alfabeto\n",
    "  '''\n",
    "  unwanted_pipes = [\"ner\", \"parser\"]\n",
    "  with nlp.disable_pipes(*unwanted_pipes):\n",
    "    return \" \".join([t.lemma_ for t in nlp(doc) if \\\n",
    "            not t.is_punct and \\\n",
    "            not t.is_space and \\\n",
    "            t.is_alpha])"
   ]
  },
  {
   "cell_type": "code",
   "execution_count": 80,
   "metadata": {},
   "outputs": [
    {
     "data": {
      "text/html": [
       "<div>\n",
       "<style scoped>\n",
       "    .dataframe tbody tr th:only-of-type {\n",
       "        vertical-align: middle;\n",
       "    }\n",
       "\n",
       "    .dataframe tbody tr th {\n",
       "        vertical-align: top;\n",
       "    }\n",
       "\n",
       "    .dataframe thead th {\n",
       "        text-align: right;\n",
       "    }\n",
       "</style>\n",
       "<table border=\"1\" class=\"dataframe\">\n",
       "  <thead>\n",
       "    <tr style=\"text-align: right;\">\n",
       "      <th></th>\n",
       "      <th>Review</th>\n",
       "      <th>Rating</th>\n",
       "    </tr>\n",
       "  </thead>\n",
       "  <tbody>\n",
       "    <tr>\n",
       "      <th>0</th>\n",
       "      <td>Great music service, the audio is high quality...</td>\n",
       "      <td>5</td>\n",
       "    </tr>\n",
       "    <tr>\n",
       "      <th>1</th>\n",
       "      <td>Please ignore previous negative rating. This a...</td>\n",
       "      <td>5</td>\n",
       "    </tr>\n",
       "    <tr>\n",
       "      <th>2</th>\n",
       "      <td>This pop-up \"Get the best Spotify experience o...</td>\n",
       "      <td>4</td>\n",
       "    </tr>\n",
       "    <tr>\n",
       "      <th>3</th>\n",
       "      <td>Really buggy and terrible to use as of recently</td>\n",
       "      <td>1</td>\n",
       "    </tr>\n",
       "    <tr>\n",
       "      <th>4</th>\n",
       "      <td>Dear Spotify why do I get songs that I didn't ...</td>\n",
       "      <td>1</td>\n",
       "    </tr>\n",
       "  </tbody>\n",
       "</table>\n",
       "</div>"
      ],
      "text/plain": [
       "                                              Review  Rating\n",
       "0  Great music service, the audio is high quality...       5\n",
       "1  Please ignore previous negative rating. This a...       5\n",
       "2  This pop-up \"Get the best Spotify experience o...       4\n",
       "3    Really buggy and terrible to use as of recently       1\n",
       "4  Dear Spotify why do I get songs that I didn't ...       1"
      ]
     },
     "execution_count": 80,
     "metadata": {},
     "output_type": "execute_result"
    }
   ],
   "source": [
    "#Import spotify review\n",
    "df=pd.read_csv(\"/Users/chenyenpin/Documents/reviews_feedback/dataset/reviews.csv\",\n",
    "               usecols=[\"Review\",\"Rating\"])\n",
    "df.head()"
   ]
  },
  {
   "cell_type": "markdown",
   "metadata": {},
   "source": [
    "# Shuffle dataset"
   ]
  },
  {
   "cell_type": "code",
   "execution_count": 81,
   "metadata": {},
   "outputs": [
    {
     "data": {
      "text/html": [
       "<div>\n",
       "<style scoped>\n",
       "    .dataframe tbody tr th:only-of-type {\n",
       "        vertical-align: middle;\n",
       "    }\n",
       "\n",
       "    .dataframe tbody tr th {\n",
       "        vertical-align: top;\n",
       "    }\n",
       "\n",
       "    .dataframe thead th {\n",
       "        text-align: right;\n",
       "    }\n",
       "</style>\n",
       "<table border=\"1\" class=\"dataframe\">\n",
       "  <thead>\n",
       "    <tr style=\"text-align: right;\">\n",
       "      <th></th>\n",
       "      <th>Review</th>\n",
       "      <th>Rating</th>\n",
       "    </tr>\n",
       "  </thead>\n",
       "  <tbody>\n",
       "    <tr>\n",
       "      <th>28812</th>\n",
       "      <td>The problems with Lisa's songs have happened t...</td>\n",
       "      <td>1</td>\n",
       "    </tr>\n",
       "    <tr>\n",
       "      <th>8989</th>\n",
       "      <td>It was good but there was a lot of ads.this ha...</td>\n",
       "      <td>4</td>\n",
       "    </tr>\n",
       "    <tr>\n",
       "      <th>57107</th>\n",
       "      <td>Thank you Spotify for supporting free speech a...</td>\n",
       "      <td>5</td>\n",
       "    </tr>\n",
       "    <tr>\n",
       "      <th>46461</th>\n",
       "      <td>I use Spotify all the time I listen to music p...</td>\n",
       "      <td>1</td>\n",
       "    </tr>\n",
       "    <tr>\n",
       "      <th>14434</th>\n",
       "      <td>Love the way you can add different playlists. ...</td>\n",
       "      <td>5</td>\n",
       "    </tr>\n",
       "    <tr>\n",
       "      <th>...</th>\n",
       "      <td>...</td>\n",
       "      <td>...</td>\n",
       "    </tr>\n",
       "    <tr>\n",
       "      <th>5695</th>\n",
       "      <td>Its work great. I highly recommend spotify add...</td>\n",
       "      <td>2</td>\n",
       "    </tr>\n",
       "    <tr>\n",
       "      <th>8006</th>\n",
       "      <td>The search bar keeps telling me it can't find ...</td>\n",
       "      <td>3</td>\n",
       "    </tr>\n",
       "    <tr>\n",
       "      <th>17745</th>\n",
       "      <td>Very good quality of product 👌</td>\n",
       "      <td>4</td>\n",
       "    </tr>\n",
       "    <tr>\n",
       "      <th>17931</th>\n",
       "      <td>Best playlist ever🤝</td>\n",
       "      <td>5</td>\n",
       "    </tr>\n",
       "    <tr>\n",
       "      <th>45919</th>\n",
       "      <td>I cannot, in good conscience, support a platfo...</td>\n",
       "      <td>1</td>\n",
       "    </tr>\n",
       "  </tbody>\n",
       "</table>\n",
       "<p>61594 rows × 2 columns</p>\n",
       "</div>"
      ],
      "text/plain": [
       "                                                  Review  Rating\n",
       "28812  The problems with Lisa's songs have happened t...       1\n",
       "8989   It was good but there was a lot of ads.this ha...       4\n",
       "57107  Thank you Spotify for supporting free speech a...       5\n",
       "46461  I use Spotify all the time I listen to music p...       1\n",
       "14434  Love the way you can add different playlists. ...       5\n",
       "...                                                  ...     ...\n",
       "5695   Its work great. I highly recommend spotify add...       2\n",
       "8006   The search bar keeps telling me it can't find ...       3\n",
       "17745                     Very good quality of product 👌       4\n",
       "17931                                Best playlist ever🤝       5\n",
       "45919  I cannot, in good conscience, support a platfo...       1\n",
       "\n",
       "[61594 rows x 2 columns]"
      ]
     },
     "execution_count": 81,
     "metadata": {},
     "output_type": "execute_result"
    }
   ],
   "source": [
    "df_shuffle=df.sample(frac=1, random_state=101).copy()\n",
    "df_shuffle"
   ]
  },
  {
   "cell_type": "code",
   "execution_count": 82,
   "metadata": {},
   "outputs": [],
   "source": [
    "#rating segmentation 0->negative, 1->neutral, 2->good\n",
    "df_shuffle=rating_seg(df_shuffle)"
   ]
  },
  {
   "cell_type": "code",
   "execution_count": 84,
   "metadata": {},
   "outputs": [
    {
     "name": "stdout",
     "output_type": "stream",
     "text": [
      "------------------------------ DataFrame Shape ------------------------------\n",
      "(61594, 3)\n",
      "------------------------------ DataFrame info ------------------------------\n",
      "<class 'pandas.core.frame.DataFrame'>\n",
      "Index: 61594 entries, 28812 to 45919\n",
      "Data columns (total 3 columns):\n",
      " #   Column      Non-Null Count  Dtype  \n",
      "---  ------      --------------  -----  \n",
      " 0   Review      61594 non-null  object \n",
      " 1   Rating      61594 non-null  int64  \n",
      " 2   rating_seg  61594 non-null  float64\n",
      "dtypes: float64(1), int64(1), object(1)\n",
      "memory usage: 1.9+ MB\n",
      "None\n",
      "------------------------------ DataFrame Nan ------------------------------\n",
      "Review        0\n",
      "Rating        0\n",
      "rating_seg    0\n",
      "dtype: int64\n",
      "------------------------------ DataFrame duplicated ------------------------------\n",
      "201\n",
      "------------------------------ DataFrame nunique ------------------------------\n"
     ]
    },
    {
     "name": "stdout",
     "output_type": "stream",
     "text": [
      "Review        61356\n",
      "Rating            5\n",
      "rating_seg        3\n",
      "dtype: int64\n",
      "------------------------------ DataFrame value counts ------------------------------\n",
      "rating_seg\n",
      "2.0    0.486038\n",
      "0.0    0.402166\n",
      "1.0    0.111797\n",
      "Name: proportion, dtype: float64\n"
     ]
    }
   ],
   "source": [
    "eda(df_shuffle)"
   ]
  },
  {
   "cell_type": "code",
   "execution_count": 85,
   "metadata": {},
   "outputs": [
    {
     "data": {
      "text/plain": [
       "'Love Spotify, and usually this app is the best, but as others have stated; the control buttons disappear and podcasts stop for no reason, which is only fixed by deleting and reinstalling the app. First world problems for sure, but highly annoying nonetheless, especially when paying for prime.'"
      ]
     },
     "execution_count": 85,
     "metadata": {},
     "output_type": "execute_result"
    }
   ],
   "source": [
    "df_shuffle[\"Review\"][10]"
   ]
  },
  {
   "cell_type": "markdown",
   "metadata": {},
   "source": [
    "# Data Cleaning / Preparation"
   ]
  },
  {
   "cell_type": "markdown",
   "metadata": {},
   "source": [
    "## Lower case"
   ]
  },
  {
   "cell_type": "code",
   "execution_count": 86,
   "metadata": {},
   "outputs": [],
   "source": [
    "df_shuffle[\"Review\"]=df_shuffle[\"Review\"].apply(lambda x :convert_lower_case(x))"
   ]
  },
  {
   "cell_type": "markdown",
   "metadata": {},
   "source": [
    "## Removing stopwords\n",
    "\n"
   ]
  },
  {
   "cell_type": "code",
   "execution_count": 87,
   "metadata": {},
   "outputs": [
    {
     "name": "stdout",
     "output_type": "stream",
     "text": [
      "293\n",
      "219\n"
     ]
    }
   ],
   "source": [
    "df_shuffle[\"review_clean\"]=df_shuffle[\"Review\"].apply(lambda x : remove_stop_words(x))\n",
    "print(len(df_shuffle[\"Review\"][10]))\n",
    "print(len(df_shuffle[\"review_clean\"][10]))"
   ]
  },
  {
   "cell_type": "markdown",
   "metadata": {},
   "source": [
    "## Lemmatization and clean the punctuation"
   ]
  },
  {
   "cell_type": "code",
   "execution_count": 88,
   "metadata": {},
   "outputs": [],
   "source": [
    "df_shuffle[\"review_clean\"]=df_shuffle[\"Review\"].apply(lambda x: spacy_tokenizer(x))\n"
   ]
  },
  {
   "cell_type": "code",
   "execution_count": 89,
   "metadata": {},
   "outputs": [
    {
     "data": {
      "text/html": [
       "<div>\n",
       "<style scoped>\n",
       "    .dataframe tbody tr th:only-of-type {\n",
       "        vertical-align: middle;\n",
       "    }\n",
       "\n",
       "    .dataframe tbody tr th {\n",
       "        vertical-align: top;\n",
       "    }\n",
       "\n",
       "    .dataframe thead th {\n",
       "        text-align: right;\n",
       "    }\n",
       "</style>\n",
       "<table border=\"1\" class=\"dataframe\">\n",
       "  <thead>\n",
       "    <tr style=\"text-align: right;\">\n",
       "      <th></th>\n",
       "      <th>Review</th>\n",
       "      <th>Rating</th>\n",
       "      <th>rating_seg</th>\n",
       "      <th>review_clean</th>\n",
       "    </tr>\n",
       "  </thead>\n",
       "  <tbody>\n",
       "    <tr>\n",
       "      <th>28812</th>\n",
       "      <td>the problems with lisa's songs have happened t...</td>\n",
       "      <td>1</td>\n",
       "      <td>0.0</td>\n",
       "      <td>the problem with lisa song have happen twice a...</td>\n",
       "    </tr>\n",
       "    <tr>\n",
       "      <th>8989</th>\n",
       "      <td>it was good but there was a lot of ads.this ha...</td>\n",
       "      <td>4</td>\n",
       "      <td>2.0</td>\n",
       "      <td>it be good but there be a lot of have a lot of...</td>\n",
       "    </tr>\n",
       "    <tr>\n",
       "      <th>57107</th>\n",
       "      <td>thank you spotify for supporting free speech a...</td>\n",
       "      <td>5</td>\n",
       "      <td>2.0</td>\n",
       "      <td>thank you spotify for support free speech and ...</td>\n",
       "    </tr>\n",
       "    <tr>\n",
       "      <th>46461</th>\n",
       "      <td>i use spotify all the time i listen to music p...</td>\n",
       "      <td>1</td>\n",
       "      <td>0.0</td>\n",
       "      <td>I use spotify all the time I listen to music p...</td>\n",
       "    </tr>\n",
       "    <tr>\n",
       "      <th>14434</th>\n",
       "      <td>love the way you can add different playlists. ...</td>\n",
       "      <td>5</td>\n",
       "      <td>2.0</td>\n",
       "      <td>love the way you can add different playlist de...</td>\n",
       "    </tr>\n",
       "  </tbody>\n",
       "</table>\n",
       "</div>"
      ],
      "text/plain": [
       "                                                  Review  Rating  rating_seg  \\\n",
       "28812  the problems with lisa's songs have happened t...       1         0.0   \n",
       "8989   it was good but there was a lot of ads.this ha...       4         2.0   \n",
       "57107  thank you spotify for supporting free speech a...       5         2.0   \n",
       "46461  i use spotify all the time i listen to music p...       1         0.0   \n",
       "14434  love the way you can add different playlists. ...       5         2.0   \n",
       "\n",
       "                                            review_clean  \n",
       "28812  the problem with lisa song have happen twice a...  \n",
       "8989   it be good but there be a lot of have a lot of...  \n",
       "57107  thank you spotify for support free speech and ...  \n",
       "46461  I use spotify all the time I listen to music p...  \n",
       "14434  love the way you can add different playlist de...  "
      ]
     },
     "execution_count": 89,
     "metadata": {},
     "output_type": "execute_result"
    }
   ],
   "source": [
    "df_shuffle.head()"
   ]
  },
  {
   "cell_type": "code",
   "execution_count": 92,
   "metadata": {},
   "outputs": [
    {
     "data": {
      "text/plain": [
       "'very good quality of product'"
      ]
     },
     "execution_count": 92,
     "metadata": {},
     "output_type": "execute_result"
    }
   ],
   "source": []
  },
  {
   "cell_type": "code",
   "execution_count": 93,
   "metadata": {},
   "outputs": [],
   "source": [
    "class SpacyTokenizer(BaseEstimator, TransformerMixin):\n",
    "    def __init__(self):\n",
    "        self.nlp = spacy.load(\"en_core_web_sm\")\n",
    "\n",
    "    def fit(self, X, y=None):\n",
    "        return self\n",
    "\n",
    "    def transform(self, X):\n",
    "        return [self.tokenize(doc) for doc in X]\n",
    "\n",
    "    def tokenize(self, doc):\n",
    "        '''\n",
    "        Function that removes punctuation, new lines, lemmatizes our text, and keeps only alphabetical letters\n",
    "        '''\n",
    "        unwanted_pipes = [\"ner\", \"parser\"]\n",
    "        with self.nlp.disable_pipes(*unwanted_pipes):\n",
    "            return \" \".join([t.lemma_ for t in self.nlp(doc) if \\\n",
    "                             not t.is_punct and \\\n",
    "                             not t.is_space and \\\n",
    "                             t.is_alpha])\n"
   ]
  }
 ],
 "metadata": {
  "kernelspec": {
   "display_name": "sentiment",
   "language": "python",
   "name": "python3"
  },
  "language_info": {
   "codemirror_mode": {
    "name": "ipython",
    "version": 3
   },
   "file_extension": ".py",
   "mimetype": "text/x-python",
   "name": "python",
   "nbconvert_exporter": "python",
   "pygments_lexer": "ipython3",
   "version": "3.11.8"
  }
 },
 "nbformat": 4,
 "nbformat_minor": 2
}
